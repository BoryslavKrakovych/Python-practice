{
  "cells": [
    {
      "cell_type": "markdown",
      "metadata": {
        "id": "FMqboNwO4rVs"
      },
      "source": [
        "# **Курс \"Програмування на мові Python\"**"
      ]
    },
    {
      "cell_type": "markdown",
      "metadata": {
        "id": "A2T6MigL5Z06"
      },
      "source": [
        "## **Практичне зайняття №14**\n",
        "\n",
        "### Тема: \"Робота зі спеціальними форматами файлів\""
      ]
    },
    {
      "cell_type": "markdown",
      "metadata": {
        "id": "A34oz70eU463"
      },
      "source": [
        "### **Завдання 1 (1,5 бали)**\n",
        "\n",
        "Створіть CSV-файл, що буде містити від 5 до 10 пісень (творів) вашого улюбленого музиканта. Назва файлу - ім'я музиканта (композитора) або назва гурту.\n",
        "\n",
        "1. Обов'язково додайте до файлу рядок з назвами двох колонок (Song, Year) або (Composition, Year).\n",
        "\n",
        "2. Після запису файлу роздрукуйте назву файлу та усі наявні у файлі рядки (включно із заголовками).\n",
        "\n",
        "3. Для запису та зчитування рядків скористайтесь функціями csv.DictWriter() та csv.DictReader()."
      ]
    },
    {
      "cell_type": "code",
      "execution_count": 3,
      "metadata": {
        "id": "MEJIrG1GU463"
      },
      "outputs": [
        {
          "name": "stdout",
          "output_type": "stream",
          "text": [
            "Wind of Change-1990\n",
            "Rock You Like a Hurricane-1984\n",
            "Humanity-2007\n",
            "Send me an Angel-1990\n",
            "Still Loving You-1984\n",
            "When the Smoke is Going Down-1982\n",
            "Big City Nights-1984\n",
            "No One Like You-1982\n",
            "Holiday-1979\n",
            "Alien Nation-1993\n"
          ]
        }
      ],
      "source": [
        "import csv\n",
        "with open('scorpions.csv', 'w', newline='') as csvfile:\n",
        "    fieldnames = ['Composition', 'Year']\n",
        "    writer = csv.DictWriter(csvfile, fieldnames=fieldnames)\n",
        "    writer.writeheader()\n",
        "    writer.writerow({'Composition': 'Wind of Change',\n",
        "                     'Year': 1990})\n",
        "    writer.writerow({'Composition': 'Rock You Like a Hurricane',\n",
        "                     'Year': 1984})\n",
        "    writer.writerow({'Composition': 'Humanity',\n",
        "                     'Year': 2007})\n",
        "    writer.writerow({'Composition': 'Send me an Angel',\n",
        "                     'Year': 1990})\n",
        "    writer.writerow({'Composition': 'Still Loving You',\n",
        "                     'Year': 1984})\n",
        "    writer.writerow({'Composition': 'When the Smoke is Going Down',\n",
        "                     'Year': 1982})\n",
        "    writer.writerow({'Composition': 'Big City Nights',\n",
        "                     'Year': 1984})\n",
        "    writer.writerow({'Composition': 'No One Like You',\n",
        "                     'Year': 1982})\n",
        "    writer.writerow({'Composition': 'Holiday',\n",
        "                     'Year': 1979})\n",
        "    writer.writerow({'Composition': 'Alien Nation',\n",
        "                     'Year': 1993})\n",
        "with open('scorpions.csv', newline='') as csvfile:\n",
        "    reader = csv.DictReader(csvfile)\n",
        "    for row in reader:\n",
        "        print(row['Composition'],row['Year'], sep='-')"
      ]
    },
    {
      "cell_type": "markdown",
      "metadata": {
        "id": "Jb-eSBsWU464"
      },
      "source": [
        "### **Завдання 2 (1,5 бали)**\n",
        "\n",
        "COCO Dataset - набір фотографій та анотацій до них. Його дуже часто використовують для тренування класифікаторів, призначених для розпізнавання об'єктів та визначення ключових точок на зображеннях.\n",
        "\n",
        "Завантажте файли з описом фотографій COCO Dataset за посиланням: [COCO Dataset](http://images.cocodataset.org/annotations/image_info_test2017.zip).\n",
        "\n",
        "Відкрийте файл image_info_test-dev2017.json. Інформація про фотографії з бази COCO міститься у полі \"images\". Інформація про категорії, на які розділені всі фотографії, міститься у полі \"categories\".\n",
        "\n",
        "1. Визначте кількість фотографій, інформацію про які можна знайти у цьому файлі (кількість елементів, що відповідають ключу \"images\").\n",
        "\n",
        "2. Визначте кількість наявних категорій (кількість елементів, що відповідають ключу \"categories\").\n",
        "\n",
        "3. Виведіть посилання на фотографію 000000000001.jpg (\"coco_url\"). Також виведіть висоту цієї фотографії (\"height\"), ширину (\"width\") та її ідентифікатор (\"id\").\n",
        "\n",
        "4. Виведіть назву фотографії з набільшим номером.\n",
        "\n",
        "Опис структури JSON-файлу для набору фотографій COCO можна знайти за посиланням: [Data format](https://cocodataset.org/#format-data).\n",
        "\n",
        "Щоб перевірити правильність результатів, у VS Code встановіть розширення JSON та відкрийте файл image_info_test-dev2017.json. Розширення автоматично визначає кількість елементів у кожному полі."
      ]
    },
    {
      "cell_type": "code",
      "execution_count": 4,
      "metadata": {},
      "outputs": [
        {
          "name": "stdout",
          "output_type": "stream",
          "text": [
            "Images: 20288\n",
            "Categories: 80\n",
            "url: http://images.cocodataset.org/test2017/000000000001.jpg\n",
            "Width: 640\n",
            "Height: 480\n",
            "id: 1\n",
            "Photo with the biggest number: 000000581918.jpg\n"
          ]
        }
      ],
      "source": [
        "import json\n",
        "with open('image_info_test-dev2017.json','r') as jsonfile:\n",
        "    file = json.load(jsonfile)\n",
        "    print('Images:', len(file['images']))\n",
        "    print('Categories:', len(file['categories']))\n",
        "    numbers = []\n",
        "    for el in file['images']:\n",
        "        if el['file_name'] == '000000000001.jpg':\n",
        "            print('url:', el['coco_url'])\n",
        "            print('Width:', el['width'])\n",
        "            print('Height:', el['height'])\n",
        "            print('id:', el['id'])\n",
        "        numbers.append(el['file_name'])\n",
        "    print('Photo with the biggest number:', max(numbers))"
      ]
    }
  ],
  "metadata": {
    "colab": {
      "collapsed_sections": [],
      "name": "Practice_14_KM_01.ipynb",
      "provenance": []
    },
    "kernelspec": {
      "display_name": "Python 3",
      "name": "python3"
    },
    "language_info": {
      "codemirror_mode": {
        "name": "ipython",
        "version": 3
      },
      "file_extension": ".py",
      "mimetype": "text/x-python",
      "name": "python",
      "nbconvert_exporter": "python",
      "pygments_lexer": "ipython3",
      "version": "3.9.7"
    }
  },
  "nbformat": 4,
  "nbformat_minor": 0
}
