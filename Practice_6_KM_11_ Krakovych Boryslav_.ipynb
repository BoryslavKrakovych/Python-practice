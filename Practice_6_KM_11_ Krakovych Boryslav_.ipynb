{
  "nbformat": 4,
  "nbformat_minor": 2,
  "metadata": {
    "colab": {
      "name": "Practice_5_KM-03_.ipynb",
      "provenance": [],
      "collapsed_sections": []
    },
    "kernelspec": {
      "name": "python3",
      "display_name": "Python 3.9.7 64-bit"
    },
    "language_info": {
      "name": "python",
      "version": "3.9.7",
      "mimetype": "text/x-python",
      "codemirror_mode": {
        "name": "ipython",
        "version": 3
      },
      "pygments_lexer": "ipython3",
      "nbconvert_exporter": "python",
      "file_extension": ".py"
    },
    "interpreter": {
      "hash": "38740d3277777e2cd7c6c2cc9d8addf5118fdf3f82b1b39231fd12aeac8aee8b"
    }
  },
  "cells": [
    {
      "cell_type": "markdown",
      "source": [
        "# **Курс \"Програмування на мові Python\"**"
      ],
      "metadata": {
        "id": "FMqboNwO4rVs"
      }
    },
    {
      "cell_type": "markdown",
      "source": [
        "## **Практичне зайняття №6**\n",
        "### Тема: \"Робота з кортежами, множинами та словниками\""
      ],
      "metadata": {
        "id": "A2T6MigL5Z06"
      }
    },
    {
      "cell_type": "markdown",
      "source": [
        "### **Завдання 1 (1,5 бали)**\n",
        "\n",
        "Напишіть програму, яка визначала б, чи можна з літер однієї фрази скласти іншу фразу. Наприклад:\n",
        "\n",
        "\"William Shakespeare\" -> \"A small spark\"\n",
        "\n",
        "Перша фраза містить 11 унікальних літер (хоча деякі повторюються): a, e, h, i, k, l, m, p, r, s та w. Друга фраза містить 7 унікальних літер: a, k, l, m, p, r та s. Кожна з літер другої фрази зустрічається принаймні один раз у першій фразі.\n",
        "\n",
        "1. Обидві фрази повинні вводитись користувачем з клавіатури.\n",
        "\n",
        "2. Скористайтесь властивістю множин у мові програмування Python для виділення колекції унікальних літер.\n",
        "\n",
        "3. У множину не повинні потрапити пробіли, розділові знаки та інші символи, що не є літерами (скористайтесь методом **isalpha()**). Також усі літери мають бути переведені в нижній або верхній регістр (скористайтесь методами **lower()** або **upper()**).\n",
        "\n",
        "4. Зверніть увагу на те, що літери як в першій, так і вдругій фразі можуть повторюватись. Однак множина унікальних літер другої фрази повинна бути підмножиною множини унікальних літер першої фрази.\n",
        "\n",
        "5. У складі змістовного повідомлення програма повинна виводити множину літер першої фрази, множину літер другої фрази, а також змістовне повідомлення про те, чи можна скласти з літер першої фрази другу фразу."
      ],
      "metadata": {
        "id": "4AV5CN7N4xja"
      }
    },
    {
      "cell_type": "code",
      "execution_count": 7,
      "source": [
        "set1=set ((input ('Input the first phrase:')).lower ())\r\n",
        "set2=set ((input ('Input the second phrase:')).lower ())\r\n",
        "set1={char for char in set1 if char.isalpha()}\r\n",
        "set2={char for char in set2 if char.isalpha()}\r\n",
        "print ('Set of letters of the first phrase:', set1)\r\n",
        "print ('Set of letters of the second phrase:', set2)\r\n",
        "if (set2.issubset(set1)):\r\n",
        "    print ('From the letters of the first phrase you can make a second phrase.')\r\n",
        "else:\r\n",
        "    print ('From the letters of the first phrase you can not make a second phrase.')"
      ],
      "outputs": [
        {
          "output_type": "stream",
          "name": "stdout",
          "text": [
            "Set of letters of the first phrase: {'e', 'v', 'o', 'u', 'r', 's', 'n'}\n",
            "Set of letters of the second phrase: {'o', 'n'}\n",
            "From the letters of the first phrase you can make a second phrase.\n"
          ]
        }
      ],
      "metadata": {
        "id": "9Mesp1jV4xjb"
      }
    },
    {
      "cell_type": "markdown",
      "source": [
        "### **Завдання 2 (1,5 бали)**\n",
        "\n",
        "Скрабл (Ерудит) - це настільна гра, в якій від 2 до 4 гравців складають слова з наявних літер на полі розміром 15 х 15. За кожну використану літеру гравець отримує певну кількість балів. Перелік літер та балів, які можна отримати за використання цих літер, подано у таблиці.\n",
        "\n",
        "Бали | Літери\n",
        "--- | ---\n",
        "1 | A, E, I, L, N, O, R, S, T, U\n",
        "2 | D, G\n",
        "3 | B, C, M, P\n",
        "4 | F, H, V, W, Y\n",
        "5 | K\n",
        "8 | J, X\n",
        "10 | Q, Z\n",
        "\n",
        "Напишіть програму, яка підраховує та виводить загальну кількість балів, яку можна отримати за слово, введене користувачем з клавіатури.\n",
        "\n",
        "1. Скористайтесь словником для збереження усіх балів та літер, за які ці бали нараховуються. \n",
        "\n",
        "2. Якщо користувач введе кілька слів, виведіть бали, які можна отримати за кожне з них окремо.\n",
        "\n",
        "3. Якщо користувач введе символи, що не є літерами (окрім пробіла, який можна використовувати для розділення слів), програма має їх ігнорувати.\n",
        "\n",
        "4. Програма повинна приймати літери як верхнього, так і нижнього регістрів.\n",
        "\n",
        "Наприклад, якщо користувач введе \"Hello, World!\", програма повинна вивести:\n",
        "\n",
        "8 9\n",
        "\n",
        "або більш розгорнутий варіант (за бажанням):\n",
        "\n",
        "4+1+1+1+1=8\n",
        "\n",
        "4+1+1+1+2=9"
      ],
      "metadata": {
        "id": "t7fqn1NN-J7z"
      }
    },
    {
      "cell_type": "code",
      "execution_count": 10,
      "source": [
        "marks = {'a': 1, 'e': 1, 'i': 1, 'l': 1, 'n': 1, 'o': 1, 'r': 1, 's': 1, 't': 1, 'u': 1,\r\n",
        "    'd': 2, 'g': 2,\r\n",
        "    'b': 3, 'c': 3, 'm': 3, 'p': 3,\r\n",
        "    'f': 4, 'h': 4, 'v': 4, 'w': 4, 'y': 4,\r\n",
        "    'k': 5,\r\n",
        "    'j': 8, 'x': 8,\r\n",
        "    'q': 10, 'z': 10}\r\n",
        "phrase = input('Input the phrase:').lower ()\r\n",
        "points = 0\r\n",
        "for values in phrase:\r\n",
        "    if values==' ':\r\n",
        "        print(points, end=' ')\r\n",
        "        points = 0\r\n",
        "    elif values.isalpha()==False:\r\n",
        "        pass\r\n",
        "    else:\r\n",
        "        points += marks[values]\r\n",
        "print(points, end=' ')"
      ],
      "outputs": [
        {
          "output_type": "stream",
          "name": "stdout",
          "text": [
            "7 "
          ]
        }
      ],
      "metadata": {
        "id": "EVY800vg4xjg"
      }
    }
  ]
}