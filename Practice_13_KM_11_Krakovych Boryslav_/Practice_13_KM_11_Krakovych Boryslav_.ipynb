{
  "cells": [
    {
      "cell_type": "markdown",
      "metadata": {
        "id": "FMqboNwO4rVs"
      },
      "source": [
        "# **Курс \"Програмування на мові Python\"**"
      ]
    },
    {
      "cell_type": "markdown",
      "metadata": {
        "id": "A2T6MigL5Z06"
      },
      "source": [
        "## **Практичне зайняття №13**\n",
        "\n",
        "### Тема: \"Робота з файлами\""
      ]
    },
    {
      "cell_type": "markdown",
      "metadata": {
        "id": "cfCdgK2zXm7e"
      },
      "source": [
        "### **Завдання 1 (1,5 бали)**\n",
        "\n",
        "У 1939 році друком вийшов роман американського письменика Ернеста Вінсента Райта \"Ґетсбі\". Особливу увагу публіки він здобув через те, що письменник жодного разу не використав у романі літеру \"e\" (роман складається з більше ніж 50,000 слів), яка є найбільш вживаною літерою в англійській мові.\n",
        "\n",
        "Порахуйте кількість входжень кожної літери у текст роману. Виведіть список літер англійського алфавіту, а також інформацію про те, скільки відсотків від усіх літер тексту складає кожна літера алфавіту.\n",
        "\n",
        "Зауваження:\n",
        "\n",
        "1. Програма має ігнорувати будь-які символи, окрім літер.\n",
        "\n",
        "2. Переведіть усі літери у верхній або у нижній регістр.\n",
        "\n",
        "3. Під час виведення відсортуйте літери у порядку зменшення їхнього відсотка. Літера \"e\" має стояти на останньому місці у цьому списку (хоча кілька літер e там все ж таки зустрічається).\n",
        "\n",
        "4. Виведіть перші 5 та останні 5 літер відсортованого списку разом з відсотковими значеннями, що їм відповідають. Відсотки округліть до тисячних."
      ]
    },
    {
      "cell_type": "code",
      "execution_count": 1,
      "metadata": {
        "id": "u4-fHJJ6U462",
        "tags": [
          "outputPrepend"
        ]
      },
      "outputs": [
        {
          "name": "stdout",
          "output_type": "stream",
          "text": [
            "a - 10.952 %\n",
            "o - 10.419 %\n",
            "i - 8.826 %\n",
            "n - 8.597 %\n",
            "t - 8.494 %\n",
            "j - 0.23 %\n",
            "z - 0.107 %\n",
            "x - 0.079 %\n",
            "q - 0.051 %\n",
            "e - 0.002 %\n"
          ]
        }
      ],
      "source": [
        "import string\n",
        "text = []\n",
        "dict = {}\n",
        "number_of_letters=0\n",
        "with open('gadsby.txt', 'r') as file:\n",
        "    readlines = file.readlines()[114:]\n",
        "for i in readlines:\n",
        "    text = str(text)+i.lower()\n",
        "for letter in text:\n",
        "    if letter in string.ascii_lowercase:\n",
        "        number_of_letters = number_of_letters+1\n",
        "for letter in string.ascii_lowercase:\n",
        "    dict[letter] = text.count(letter)\n",
        "sorted_letters = sorted(dict.items(), key = lambda a: a[1], reverse = True)\n",
        "percent = lambda a:round(((a[1] / number_of_letters) * 100),3)\n",
        "for elem in sorted_letters[:5]:\n",
        "    print(elem[0],'-',percent(elem),'%')\n",
        "for elem in sorted_letters[-5:]:\n",
        "    print(elem[0],'-',percent(elem),'%')"
      ]
    },
    {
      "cell_type": "markdown",
      "metadata": {
        "id": "A34oz70eU463"
      },
      "source": [
        "### **Завдання 2 (1,5 бали)**\n",
        "\n",
        "Архів archive.zip містить 140 txt-файлів, в яких збережено інфорамцію про те, якими іменами називали дітей у США в період з 1880 по 2019 рік.\n",
        "\n",
        "Структура рядка кожного файлу така:\n",
        "\n",
        "*name,sex,number_of_occurrences*\n",
        "\n",
        "Напишіть програму, яка зчитуватиме кожен файл та визначатиме окремо чоловічі, окремо жіночі імена, що були найпопулярнішими хоча б в один з років. Далі програма повинна підраховувати, скільки разів кожне з цих імен ставало найпопулярнишим, та виводити ранжовані списки чоловічіх та жіночих імен у вигляді:\n",
        "\n",
        "```\n",
        "Michael 44\n",
        "John 44\n",
        "Robert 17\n",
        "...\n",
        "\n",
        "Mary 76\n",
        "Jennifer 15\n",
        "Emily 12\n",
        "...\n",
        "```"
      ]
    },
    {
      "cell_type": "code",
      "execution_count": 4,
      "metadata": {},
      "outputs": [
        {
          "name": "stdout",
          "output_type": "stream",
          "text": [
            "John 44\n",
            "Michael 44\n",
            "Robert 17\n",
            "Jacob 14\n",
            "James 13\n",
            "Noah 4\n",
            "Liam 3\n",
            "David 1\n",
            "Mary 76\n",
            "Jennifer 15\n",
            "Emily 12\n",
            "Jessica 9\n",
            "Lisa 8\n",
            "Linda 6\n",
            "Emma 6\n",
            "Sophia 3\n",
            "Ashley 2\n",
            "Isabella 2\n",
            "Olivia 1\n"
          ]
        }
      ],
      "source": [
        "import os\n",
        "files = os.listdir('names') \n",
        "males = {}\n",
        "females = {}\n",
        "for f in files:\n",
        "    with open('names\\\\' + f, 'r') as file:\n",
        "        readlines = file.readlines()\n",
        "        m = [] \n",
        "        for i in readlines:\n",
        "            (n,s,o) = i.split(',')\n",
        "            m.append((n, s, int(o))) \n",
        "        max_males = max(filter(lambda i: i[1] == 'M', m), key = lambda i: i[2])[0]\n",
        "        max_females = max(filter(lambda i: i[1] == 'F', m), key = lambda i: i[2])[0] \n",
        "        if max_males in males.keys():   \n",
        "            males[max_males] = males[max_males] + 1 \n",
        "        else: \n",
        "            males[max_males] = 1 \n",
        "        if max_females in females.keys(): \n",
        "            females[max_females] = females[max_females] + 1 \n",
        "        else: \n",
        "            females[max_females] = 1 \n",
        "sorted_males = sorted(males.items(), key=lambda a: a[1], reverse=True)\n",
        "sorted_females = sorted(females.items(), key=lambda a: a[1], reverse=True)\n",
        "for name, occurrences in sorted_males:\n",
        "    print(name,occurrences)\n",
        "for name, occurrences in sorted_females:\n",
        "    print(name,occurrences)  "
      ]
    }
  ],
  "metadata": {
    "colab": {
      "collapsed_sections": [],
      "name": "Practice_14_KM_01.ipynb",
      "provenance": []
    },
    "kernelspec": {
      "display_name": "Python 3",
      "name": "python3"
    },
    "language_info": {
      "codemirror_mode": {
        "name": "ipython",
        "version": 3
      },
      "file_extension": ".py",
      "mimetype": "text/x-python",
      "name": "python",
      "nbconvert_exporter": "python",
      "pygments_lexer": "ipython3",
      "version": "3.8.8"
    }
  },
  "nbformat": 4,
  "nbformat_minor": 0
}
