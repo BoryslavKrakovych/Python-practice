{
 "cells": [
  {
   "cell_type": "markdown",
   "source": [
    "# **Курс \"Програмування на мові Python\"**"
   ],
   "metadata": {
    "id": "1bRxWHr5e8kt"
   }
  },
  {
   "cell_type": "markdown",
   "source": [
    "## **Практичне зайняття №3**\n",
    "### Тема: \"Перші програми на Python. Введення та виведення даних. Інструкція if\""
   ],
   "metadata": {
    "id": "buZUwUgFe-kx"
   }
  },
  {
   "cell_type": "markdown",
   "source": [
    "### **Завдання 1 (1,5 бали)**\n",
    "\n"
   ],
   "metadata": {
    "id": "PUkxEn8EfAUe"
   }
  },
  {
   "cell_type": "markdown",
   "source": [
    "**Написати програму введення та виведення даних про одержувача листа (посилки) за стандартами Укрпошти.**\n",
    "\n",
    "1. Усі запити на введення даних повинні супроводжуватись відповідними підказками-поясненнями (бажано англійською мовою).\n",
    "\n",
    "2. Дані мають виводитись так, як показано нижче (з урахуванням кількості рядків та послідовності даних у кожному з них).\n",
    "\n",
    "3. Дані, виділені жирним шрифтом, повинні вводитись із клавіатури. Всього має бути 9 окремих команд введення даних\n",
    "\n",
    "4. Назви змінних повинні бути інформативними та оформленими відповідно до правил іменування змінних\n",
    "\n",
    "5. Додати 2 коментарі, що вказують на блоки введення та виведення даних.\n",
    "\n",
    "***Формат виведення даних:***\n",
    "\n",
    "(1) **Ім'я** (2) **Прізвище**\n",
    "\n",
    "(3) **Номер телефону**\n",
    "\n",
    "Str. (4) **Назва вулиці** (5) **Номер будинку**, ap. (6) **Номер квартири**, (7) **Місто**\n",
    "\n",
    "(8) **Індекс**\n",
    "\n",
    "(9) **Країна**\n",
    "\n",
    "***Приклад виведення:***\n",
    "\n",
    "*Lucas Diallo*\n",
    "\n",
    "*3221234567*\n",
    "\n",
    "*Str. Longue 3, ap. 5, Bruxelles*\n",
    "\n",
    "*1020*\n",
    "\n",
    "*Belgium*"
   ],
   "metadata": {
    "id": "M7jjwxAvfKa2"
   }
  },
  {
   "cell_type": "code",
   "execution_count": 1,
   "source": [
    "# input block\n",
    "Name = input ('Input your name:')\n",
    "Surname = input ('Input your surname:') \n",
    "PhoneNumber = input ('Input your phone number:') \n",
    "Street = input ('Input your street:') \n",
    "BuildingNumber = input ('Input your house number:') \n",
    "ApartNumber = input ('Input your apart number:') \n",
    "City = input ('Input your city:') \n",
    "Index = input ('Input your index:') \n",
    "Country = input ('Input your country:')\n",
    "\n",
    "# output block\n",
    "print (Name,Surname)\n",
    "print (PhoneNumber)\n",
    "print ('Str.', Street, BuildingNumber, ', ap.', ApartNumber, ',' , City)\n",
    "print (Index)\n",
    "print (Country)"
   ],
   "outputs": [
    {
     "output_type": "stream",
     "name": "stdout",
     "text": [
      "Boryslav Krakovych\n",
      "0965675276\n",
      "Str. Saliutna 20 , ap. 13 , Kyiv\n",
      "03190\n",
      "Ukraine\n"
     ]
    }
   ],
   "metadata": {}
  },
  {
   "cell_type": "markdown",
   "source": [
    "### **Завдання 2 (1,5 бали)**"
   ],
   "metadata": {
    "id": "WmnpKrmPf689"
   }
  },
  {
   "cell_type": "markdown",
   "source": [
    "Таблиця містить магнітуду землетрусів за шкалою Ріхтера та дескриптори, що їй відповідають.\n",
    "\n",
    "Магнітуда | Дескриптор\n",
    "--- | ---\n",
    "Менше, ніж 2 | Micro\n",
    "Від 2 до менше ніж 3 | Very minor\n",
    "Від 3 до менше ніж 4 | Minor\n",
    "Від 4 до менше ніж 5 | Light\n",
    "Від 5 до менше ніж 6 | Moderate\n",
    "Від 6 до менше ніж 7 | Strong\n",
    "Від 7 до менше ніж 8 | Major\n",
    "Від 8 до менше ніж 10 | Great\n",
    "10 та більше | Meteoric\n",
    "\n",
    "Напишіть програму, яка буде зчитувати магнітуду, введену користувачем, та виводити відповідний дескриптор як частину змістовного повідомлення. Наприклад, якщо користувач вводить 5.5, ваша програма повинна показати, що землетрус з такою магнітудою є помірним (moderate)."
   ],
   "metadata": {
    "id": "4n4p_pz7gFKM"
   }
  },
  {
   "cell_type": "code",
   "execution_count": 2,
   "source": [
    "Magnitude = float (input ('Input a magnitude:'))\r\n",
    "if Magnitude < 2:\r\n",
    "    print ('The earthquake with such a magnitude is micro.')\r\n",
    "elif 2 <= Magnitude < 3:\r\n",
    "    print ('The earthquake with such a magnitude is very minor.')\r\n",
    "elif 3 <= Magnitude < 4:\r\n",
    "    print ('The earthquake with such a magnitude is minor.')\r\n",
    "elif 4 <= Magnitude < 5:\r\n",
    "    print ('The earthquake with such a magnitude is light.')\r\n",
    "elif 5 <= Magnitude < 6:\r\n",
    "    print ('The earthquake with such a magnitude is moderate.')\r\n",
    "elif 6 <= Magnitude < 7:\r\n",
    "    print ('The earthquake with such a magnitude is strong.')\r\n",
    "elif 7 <= Magnitude < 8:\r\n",
    "    print ('The earthquake with such a magnitude is major.')\r\n",
    "elif 8 <= Magnitude < 10:\r\n",
    "    print ('The earthquake with such a magnitude is great.')\r\n",
    "elif Magnitude >= 10:\r\n",
    "    print ('The earthquake with such a magnitude is meteroic.') "
   ],
   "outputs": [
    {
     "output_type": "stream",
     "name": "stdout",
     "text": [
      "The earthquake with such a magnitude is strong.\n"
     ]
    }
   ],
   "metadata": {
    "id": "Nv66Jkkpf-sI"
   }
  },
  {
   "cell_type": "markdown",
   "source": [
    "### **Завдання 3 (бонусне, 1 бал)**"
   ],
   "metadata": {
    "id": "X8fC_GM_nMRi"
   }
  },
  {
   "cell_type": "markdown",
   "source": [
    "Часто говорять, що один календарний рік еквівалентний 7 рокам для собаки. Однак таке просте перетворення не враховує того, що собаки досягають повноліття приблизно у 2 роки. Тому деякі люди вважать, що краще рахувати кожен з перших двох календарних років як 10,5 років для собаки, а потім рахувати кожен наступний календарний рік як 4 роки для собаки.\n",
    "\n",
    "Напишіть програму, яка конвертує календарні роки у \"собачі\", як було показано в попередньому абзаці. Переконайтесь, що ваша програма працює правильно, конвертуючи перші два календарні роки та всі подальші. Ваша програма також повинна виводити повідомлення про помилку, якщо користувач введе від'ємне число."
   ],
   "metadata": {
    "id": "b593txPwotgN"
   }
  },
  {
   "cell_type": "code",
   "execution_count": 3,
   "source": [
    "Human = float (input ('Input an amount of calendar years:'))\r\n",
    "if 0 <= Human <= 2:\r\n",
    "    Dog = 10.5*Human\r\n",
    "    print ('Amount of dog years:',Dog)\r\n",
    "elif Human > 2:\r\n",
    "    Years = Human-2\r\n",
    "    Dog = ((10.5)*2)+4*Years\r\n",
    "    print ('Amount of dog years:',Dog)\r\n",
    "elif Human < 0:\r\n",
    "    print ('An amount of calendar years is negative.')"
   ],
   "outputs": [
    {
     "output_type": "stream",
     "name": "stdout",
     "text": [
      "Amount of dog years: 25.0\n"
     ]
    }
   ],
   "metadata": {}
  }
 ],
 "metadata": {
  "colab": {
   "collapsed_sections": [],
   "name": "Pranctice_3_KM-01_<name>.ipynb",
   "provenance": []
  },
  "interpreter": {
   "hash": "38740d3277777e2cd7c6c2cc9d8addf5118fdf3f82b1b39231fd12aeac8aee8b"
  },
  "kernelspec": {
   "display_name": "Python 3 (ipykernel)",
   "language": "python",
   "name": "python3"
  },
  "language_info": {
   "codemirror_mode": {
    "name": "ipython",
    "version": 3
   },
   "file_extension": ".py",
   "mimetype": "text/x-python",
   "name": "python",
   "nbconvert_exporter": "python",
   "pygments_lexer": "ipython3",
   "version": "3.9.7"
  }
 },
 "nbformat": 4,
 "nbformat_minor": 2
}