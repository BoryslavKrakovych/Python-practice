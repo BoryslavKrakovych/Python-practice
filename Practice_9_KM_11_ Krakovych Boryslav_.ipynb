{
  "cells": [
    {
      "cell_type": "markdown",
      "metadata": {
        "id": "FMqboNwO4rVs"
      },
      "source": [
        "# **Курс \"Програмування на мові Python\"**"
      ]
    },
    {
      "cell_type": "markdown",
      "metadata": {
        "id": "A2T6MigL5Z06"
      },
      "source": [
        "## **Практичне зайняття №9**\n",
        "\n",
        "### Тема: \"Робота з функціями. Локальні та глобальні змінні\""
      ]
    },
    {
      "cell_type": "markdown",
      "metadata": {
        "id": "cfCdgK2zXm7e"
      },
      "source": [
        "### **Завдання 1 (3 бали)**\n",
        "\n",
        "**Підрахувати визначник матриці, використовуючи правило перестановок.**\n",
        "\n",
        "Функція random_matrix() призначена для створення квадратної матриці випадкових чисел. Її змінювати непотрібно.\n",
        "\n",
        "Приклад використання методу permutations() для створення списку перестановок також подається у комірці з кодом.\n",
        "\n",
        "1) Створити 3 функції: функцію створення списку перестановок, функцію підрахунку добутків та функцію підрахунку загальної суми.\n",
        "\n",
        "2) Кожна функція має супроводжуватись рядком документації, що буде коротко описувати її призначення.\n",
        "\n",
        "3) Розмірність квадратної матриці має вводитись користувачем з клавіатури. Підрахунки виконувати лише в тому разі, якщо користувач введе ціле додатне число.\n",
        "\n",
        "4) Загальний результат повинен підраховуватись за допомогою композиції функцій.\n",
        "\n",
        "За бажанням можна перевірити правильність роботи програми за допомогою функції np.linalg.det(a)."
      ]
    },
    {
      "cell_type": "code",
      "execution_count": 3,
      "metadata": {
        "id": "ifNX2M7LXm7f"
      },
      "outputs": [
        {
          "name": "stdout",
          "output_type": "stream",
          "text": [
            "The random matrix is \n",
            " [[2 0 1 7 7]\n",
            " [7 4 6 0 7]\n",
            " [6 7 0 4 9]\n",
            " [3 4 7 5 1]\n",
            " [9 3 0 2 5]]\n",
            "The determinant of this matrix is: 20566\n",
            "Сheck the correctness of the program using the function np.linalg.det (a).: 20566\n"
          ]
        }
      ],
      "source": [
        "import numpy as np\n",
        "import itertools\n",
        "\n",
        "def random_matrix(dim):\n",
        "    \"\"\"\n",
        "    The function generates dim x dim array of integers\n",
        "    between 0 and 10.\n",
        "    \"\"\"\n",
        "    matrix = np.random.randint(10, size = (dim, dim))\n",
        "    return matrix\n",
        "\n",
        "#Example of using permutations() method\n",
        "t = list(itertools.permutations('123', 3))\n",
        "ok = False\n",
        "while not ok:\n",
        "    try:\n",
        "        dimension = int(input('Input dimension of the matrix:'))\n",
        "        if dimension<1:\n",
        "            print('You input negative value of dimension. Try again.')\n",
        "        else:\n",
        "            ok = True\n",
        "    except:\n",
        "        print('You entered not integer number. Try again.')\n",
        "matrix = random_matrix(dimension)\n",
        "print('The random matrix is', '\\n', matrix)\n",
        "def permutations(n):\n",
        "    \"\"\"\n",
        "    The first function find all possible permutations.\n",
        "    \"\"\"\n",
        "    index = []\n",
        "    for i in range(0,dimension):\n",
        "        index.append(i)\n",
        "    p = list(itertools.permutations([str(i) for i in range(1,dimension+1)], dimension))\n",
        "    return p   \n",
        "def multiple(m):\n",
        "    \"\"\"\n",
        "    The second function calculates for each permutation \n",
        "    its sign and the corresponding product of elements \n",
        "    from the matrix.\n",
        "    \"\"\"\n",
        "    global matrix\n",
        "    mul=[]\n",
        "    for pi in m:\n",
        "        p=1\n",
        "        n=0\n",
        "        for j in range(len(pi)):\n",
        "            ok = True\n",
        "            u = j\n",
        "            while ok:\n",
        "                if u==len(pi):\n",
        "                    ok = False\n",
        "                elif (pi[j]>pi[u]) and (pi[j]!=pi[u]): \n",
        "                    p*=-1\n",
        "                    u+=1\n",
        "                else:\n",
        "                    u+=1\n",
        "        for i in range(len(pi)):\n",
        "            p = p*int(matrix[i][int(pi[i])-1])\n",
        "        mul.append(pow(-1,n)*p)\n",
        "    return mul\n",
        "def summ(det):\n",
        "    \"\"\"\n",
        "    The third function sums the received products with \n",
        "    the correct sign.\n",
        "    \"\"\"   \n",
        "    det = sum(det)\n",
        "    return det\n",
        "\n",
        "print('The determinant of this matrix is:', summ(multiple(permutations(matrix))))\n",
        "print('Сheck the correctness of the program using the function np.linalg.det (a).:', round(np.linalg.det(matrix)))\n"
      ]
    }
  ],
  "metadata": {
    "colab": {
      "collapsed_sections": [],
      "name": "Practice_7_KM-01_.ipynb",
      "provenance": []
    },
    "interpreter": {
      "hash": "278b23fb26909f1c7a9a1bd9ee78b942d4f157931d4e57b04f5988f91b0507c7"
    },
    "kernelspec": {
      "display_name": "Python 3.8.8 64-bit ('base': conda)",
      "name": "python3"
    },
    "language_info": {
      "codemirror_mode": {
        "name": "ipython",
        "version": 3
      },
      "file_extension": ".py",
      "mimetype": "text/x-python",
      "name": "python",
      "nbconvert_exporter": "python",
      "pygments_lexer": "ipython3",
      "version": "3.8.8"
    }
  },
  "nbformat": 4,
  "nbformat_minor": 0
}
