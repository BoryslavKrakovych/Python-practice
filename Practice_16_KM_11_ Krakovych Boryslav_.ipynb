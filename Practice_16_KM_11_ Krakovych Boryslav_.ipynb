{
  "cells": [
    {
      "cell_type": "markdown",
      "metadata": {
        "id": "FMqboNwO4rVs"
      },
      "source": [
        "# **Курс \"Програмування на мові Python\"**"
      ]
    },
    {
      "cell_type": "markdown",
      "metadata": {
        "id": "A2T6MigL5Z06"
      },
      "source": [
        "## **Практичне зайняття №16**\n",
        "\n",
        "### Тема: \"Декоратори\""
      ]
    },
    {
      "cell_type": "markdown",
      "metadata": {},
      "source": [
        "### **Завдання 1 (1,5 бали)**\n",
        "\n",
        "Реалізуйте підрахунок площі трикутника з використанням декоратора, який перевірятиме можливість побудови трикутника з трьох введених користувачем сторін.\n",
        "\n",
        "1. Напишіть функцію area_calculation, яка підраховуватиме площу трикутника за трьома сторонами. Для підрахунку можете скористатись формулою Герона.\n",
        "\n",
        "2. Напишіть функцію check, яка перевірятиме правильність введених користувачем значень (значення мають бути додатними числами, не обов'язково цілими).\n",
        "\n",
        "3. Створіть декоратор triangle_ineq, який перевірятиме виконання нерівності трикутрика для трьох заданих користувачем сторін. Навісьте декоратор triangle_ineq на функція area_calculation та перевірте правильність роботи програми."
      ]
    },
    {
      "cell_type": "code",
      "execution_count": 1,
      "metadata": {
        "id": "yiRr2CqMWxLA"
      },
      "outputs": [
        {
          "name": "stdout",
          "output_type": "stream",
          "text": [
            "From these sides you can build a triangle.\n",
            "The area of this triangle according to Herons formula: 6.0\n"
          ]
        }
      ],
      "source": [
        "import math\n",
        "\n",
        "def triangle_ineq(func):\n",
        "    def wrapper(a,b,c):\n",
        "        if check(a,b,c) == True:\n",
        "            if float(a)+float(b) >= float(c) and float(b) + float(c) >= float(a) and float(a) + float(c) >= float(b):\n",
        "                print ('From these sides you can build a triangle.')\n",
        "                func(a,b,c)\n",
        "            else:\n",
        "                print ('From these sides you can not build a triangle, try again.')\n",
        "        elif check(a,b,c) == False:\n",
        "            print('An error has occurred. You have entered an incorrect value. Try again.')\n",
        "    return wrapper\n",
        "\n",
        "@triangle_ineq\n",
        "def area_calculation (a,b,c):\n",
        "    a = float (a)\n",
        "    b = float (b)\n",
        "    c = float (c)\n",
        "    p = (a + b + c)/2   \n",
        "    s = math.sqrt(p * (p - a) * (p - b) * (p - c))\n",
        "    print ('The area of this triangle according to Herons formula:',round (s,2))\n",
        "def check(a,b,c):\n",
        "    try:\n",
        "        if float(a) > 0 and float(b) > 0 and float(c) > 0:\n",
        "            return True\n",
        "    except:\n",
        "        return False\n",
        "a = input('Enter the side a:')\n",
        "b = input('Enter the side b:')\n",
        "c = input('Enter the side c:')\n",
        "area_calculation (a,b,c)"
      ]
    },
    {
      "cell_type": "markdown",
      "metadata": {},
      "source": [
        "### **Завдання 2 (1,5 бали)**\n",
        "\n",
        "Більшість друкованих книг (особливо це стосується книг у твердій палітурці) складаються із зошитів. Припустимо, що в друкарні текст друкується на листах паперу удвічі більших за звичайний книжковий формат. Потім ці листи складаються вдвічі, з них формуються зошити, які потім зшиваються у блок.\n",
        "\n",
        "Розглянемо конкретний приклад.\n",
        "\n",
        "Припустимо, що кожен зшитий зошит нашої книги складається з 8 листів (16 сторінок). Якщо уявити великі листи, з яких потім складаються зошити, то на кожному таком листі буде по 4 сторінки книги. У нашій книзі таких великих листів буде 4. Розглянемо перший лист. З одного боку на ньому будуть надруковані сторінки 16 та 1, з іншого - 2 та 15. На другому листі з одного боку будуть надруковані сторінки 14 та 3, з іншого - 4 та 13.\n",
        "\n",
        "**Написати програму, яка визначатиме послідовність сторінок, що будуть надруковані на кожному великому листі.**\n",
        "\n",
        "1. Користувач має вводити з клавіатури кількість сторінок у книзі (не більше 1280).\n",
        "\n",
        "2. Зверніть увагу на те, що загальна кількість сторінок у книзі має бути кратною кількості сторінок у зошиті. Якщо користувач введе число, що не задовольняє цій умові, програма повинна запропонувати користувачеві ввесте інше значення.\n",
        "\n",
        "3. Зверніть увагу на те, що на великих листах поворот аркуша відбувається за коротким краєм. Отже, якщо з одного боку аркуша надруковано сторінки 16 та 1, то з іншого 2 та 15 (а не 15, 2), якщо дивитись зліва направо.\n",
        "\n",
        "4. Функція, яка визначатиме послідовність книжкових сторінок, має виводити на екран рядок за рядком номери сторінок кожного зошита, а також кількість зошитів у книзі.\n",
        "\n",
        "5. Створіть декоратор з параметром, що прийматиме на вхід аргументи False або True, та навісьте цей декоратор на попередню функцію. Якщо параметр дорівнює False, додаткові функції декоратора не повинні виконуватись, тобто має виконатись лише функція з п. 4. Якщо параметр дорівнює True, декоратор повинен створювати список усіх сторінок у потрібній послідовності та роздруковувати його. Номери сторінок кожного зошита мають зберігатись в окремому вкладеному списку. Для 16-сторінкового зошита список повинен мати вигляд:\n",
        "\n",
        "`[[16, 1, 2, 15, 14, 3, 4, 13, ..., 10, 7, 8, 9], [32, 17, 18, 31, ...], ... ]`\n",
        "\n",
        "**Бонусне завдання (за бажанням)**\n",
        "\n",
        "6. Замість функції з п. 4 створіть генератор, який буде визначати послідовність книжкових сторінок для кожного зошита. Ці рядки можна потім вивести або у циклі, або за допомогою функції next(). Функція-декоратор має працювати з цим генератором так само, як і зі звичайною функцією."
      ]
    },
    {
      "cell_type": "code",
      "execution_count": 2,
      "metadata": {},
      "outputs": [
        {
          "name": "stdout",
          "output_type": "stream",
          "text": [
            "An amount of workbooks: 2\n",
            "Pages of the workbook number 1 : [16, 1, 2, 15, 14, 3, 4, 13, 12, 5, 6, 11, 10, 7, 8, 9]\n",
            "Pages of the workbook number 2 : [32, 17, 18, 31, 30, 19, 20, 29, 28, 21, 22, 27, 26, 23, 24, 25]\n",
            "All pages in book: [[16, 1, 2, 15, 14, 3, 4, 13, 12, 5, 6, 11, 10, 7, 8, 9], [32, 17, 18, 31, 30, 19, 20, 29, 28, 21, 22, 27, 26, 23, 24, 25]]\n"
          ]
        }
      ],
      "source": [
        "ok=False\n",
        "while not ok:\n",
        "    try:\n",
        "        i=int(input('Enter amount of pages of book:'))\n",
        "        if int (i) > 1280 or i == 0:\n",
        "            print('An error has occurred. You have entered an incorrect value. Try again.')\n",
        "            continue\n",
        "        else:\n",
        "            break\n",
        "    except ValueError:\n",
        "        print('An error has occurred. You have entered an incorrect value. Try again.')\n",
        "        continue\n",
        "ok=False\n",
        "while not ok:\n",
        "    try:\n",
        "        j=int(input('Enter amount of pages of workbook:'))\n",
        "        if int (i) % int (j) != 0 :\n",
        "            print('An error has occurred. You have entered an incorrect value. Try again.')\n",
        "            continue\n",
        "        else:\n",
        "            ok=True\n",
        "            break \n",
        "    except ValueError:\n",
        "        print('An error has occurred. You have entered an incorrect value. Try again.')\n",
        "        continue\n",
        "\n",
        "def decorator(arg):\n",
        "    def wrapper(func):\n",
        "        def inner(i,j):\n",
        "            if arg == False:\n",
        "                func(i,j)\n",
        "            else:\n",
        "                lst = []\n",
        "                for n in func(i,j):\n",
        "                    lst.append(n)\n",
        "                print(\"All pages in book:\",lst)\n",
        "        return inner\n",
        "    return wrapper\n",
        "\n",
        "@decorator(arg=True)\n",
        "def numbers(i,j):\n",
        "    numb = i//j\n",
        "    print('An amount of workbooks:', numb)\n",
        "    k = 0\n",
        "    j = int (j)\n",
        "    while k < j:\n",
        "        k = k + 1\n",
        "        num = []\n",
        "        for n in range(0,j//2, 2):\n",
        "            num.append(k * j - n)\n",
        "            num.append(k * j + n - (j - 1))\n",
        "            num.append(k * j + n - (j - 2))\n",
        "            num.append(k * j - n - 1)\n",
        "        if k > numb:\n",
        "            break\n",
        "        else:\n",
        "            print('Pages of the workbook number',k,':',num)\n",
        "            yield num\n",
        "numbers(i,j)"
      ]
    }
  ],
  "metadata": {
    "colab": {
      "collapsed_sections": [],
      "name": "Practice_10-11_KM_01_.ipynb",
      "provenance": []
    },
    "kernelspec": {
      "display_name": "Python 3",
      "name": "python3"
    },
    "language_info": {
      "codemirror_mode": {
        "name": "ipython",
        "version": 3
      },
      "file_extension": ".py",
      "mimetype": "text/x-python",
      "name": "python",
      "nbconvert_exporter": "python",
      "pygments_lexer": "ipython3",
      "version": "3.8.8"
    }
  },
  "nbformat": 4,
  "nbformat_minor": 0
}
